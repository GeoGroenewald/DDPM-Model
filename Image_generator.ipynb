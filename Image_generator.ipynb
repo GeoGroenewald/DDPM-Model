{
  "cells": [
    {
      "cell_type": "markdown",
      "metadata": {
        "id": "ZL2qgW2BLXcY"
      },
      "source": [
        "# Data loading and diffusion"
      ]
    },
    {
      "cell_type": "code",
      "execution_count": 1,
      "metadata": {
        "id": "olk9Xz42LSur"
      },
      "outputs": [],
      "source": [
        "import math\n",
        "import numpy as np\n",
        "import matplotlib.pyplot as plt\n",
        "from torch import nn, optim\n",
        "from torchvision import datasets, transforms\n",
        "from torch.utils.data import ConcatDataset, DataLoader\n",
        "import torch\n",
        "import torchvision.utils as vutils"
      ]
    },
    {
      "cell_type": "markdown",
      "metadata": {
        "id": "hbivIoqaVUU9"
      },
      "source": [
        "##Load labelled data from STL10 dataset"
      ]
    },
    {
      "cell_type": "code",
      "execution_count": null,
      "metadata": {
        "id": "togXHo4GwWk5",
        "colab": {
          "base_uri": "https://localhost:8080/"
        },
        "outputId": "cc92a816-c928-4502-9072-7d40c4863c78"
      },
      "outputs": [
        {
          "output_type": "stream",
          "name": "stderr",
          "text": [
            "100%|██████████| 170M/170M [00:06<00:00, 24.6MB/s]\n"
          ]
        }
      ],
      "source": [
        "\n",
        "transform = transforms.Compose([\n",
        "transforms.Resize((32, 32)),             # Resize any image to 96x96\n",
        "transforms.ToTensor(), transforms.Normalize((0.5, 0.5, 0.5), (0.5, 0.5, 0.5))])\n",
        "\n",
        "train_dataset = datasets.CIFAR10(root='.', train=True, transform=transform, download=True)\n",
        "test_dataset = datasets.CIFAR10(root='.', train=False, transform=transform, download=True)\n",
        "combined_dataset = ConcatDataset([train_dataset, test_dataset])\n"
      ]
    },
    {
      "cell_type": "code",
      "execution_count": null,
      "metadata": {
        "colab": {
          "base_uri": "https://localhost:8080/"
        },
        "id": "BBKA_2xE2pfA",
        "outputId": "511df977-da8b-443d-c6f9-5178584c7fc7"
      },
      "outputs": [
        {
          "output_type": "execute_result",
          "data": {
            "text/plain": [
              "torch.Size([1, 3, 32, 32])"
            ]
          },
          "metadata": {},
          "execution_count": 3
        }
      ],
      "source": [
        "x, __ = combined_dataset[0]\n",
        "testing = torch.unsqueeze(x,0)\n",
        "testing.shape"
      ]
    },
    {
      "cell_type": "markdown",
      "metadata": {
        "id": "5BP_3xBIVc-c"
      },
      "source": [
        "## Define all values and functions needed to diffuse a image"
      ]
    },
    {
      "cell_type": "code",
      "execution_count": 2,
      "metadata": {
        "id": "SpjNRreZLWBE"
      },
      "outputs": [],
      "source": [
        "#Define some diffusion schedule values that will be used in the diffusion forward pass\n",
        "#These values are computed uaing the cosine schedule\n",
        "T = 400\n",
        "s = 0.08\n",
        "t = torch.linspace(0,T,T+1, device='cuda' if torch.cuda.is_available() else 'cpu')\n",
        "alpha_t = torch.cos((t/T + s)/(1 + s) * (torch.pi / 2)) ** 2\n",
        "alpha_t = alpha_t / alpha_t[0]\n",
        "beta_t = 1 - (alpha_t[1:] / alpha_t[:-1])  # β[1], β[2], ..., β[T]\n",
        "beta_t = torch.clip(beta_t, 1e-4, 0.999)\n",
        "beta_t = beta_t.type(torch.float32)\n",
        "alpha_cumprod = torch.cumprod(1-beta_t,dim=0)\n",
        "\n",
        "def forward_diff(images, time_steps):\n",
        "  #This function performs the diffusion of a normal recognizable batch of images and returns the diffused image as well as the noise for training\n",
        "  #this model uses the cosine schedule\n",
        "  #time step is used to define the diffusion at certain time steps\n",
        "\n",
        "  noise = torch.randn_like(images, device=images.device)\n",
        "\n",
        "  sqrt_alpha = torch.sqrt(alpha_t[time_steps]).view(-1, 1, 1, 1)  # (B, 1, 1, 1)\n",
        "  sqrt_one_minus_alpha = torch.sqrt(1 - alpha_t[time_steps]).view(-1, 1, 1, 1)\n",
        "\n",
        "  return (sqrt_alpha*images + sqrt_one_minus_alpha*noise), noise\n"
      ]
    },
    {
      "cell_type": "markdown",
      "metadata": {
        "id": "Bd-b5OFq4uci"
      },
      "source": [
        "#Time Embedding"
      ]
    },
    {
      "cell_type": "code",
      "execution_count": null,
      "metadata": {
        "id": "Mn6teJ324w7C"
      },
      "outputs": [],
      "source": [
        "def get_time_embedding(time_steps, temb_dim):\n",
        "    \"\"\"\n",
        "    Convert time steps tensor into an embedding using the\n",
        "    sinusoidal time embedding formula\n",
        "    :param time_steps: 1D tensor of length batch size\n",
        "    :param temb_dim: Dimension of the embedding\n",
        "    :return: BxD embedding representation of B time steps\n",
        "    \"\"\"\n",
        "    assert temb_dim % 2 == 0, \"time embedding dimension must be divisible by 2\"\n",
        "\n",
        "    factor = 10000 ** ((torch.arange(start=0, end=temb_dim // 2, dtype=torch.float32, device=torch.device(\"cuda\" if torch.cuda.is_available() else \"cpu\")) / (temb_dim // 2))\n",
        "    )\n",
        "\n",
        "    # pos / factor\n",
        "    # timesteps B -> B, 1 -> B, temb_dim\n",
        "    t_emb = time_steps[:, None].repeat(1, temb_dim // 2) / factor\n",
        "    t_emb = torch.cat([torch.sin(t_emb), torch.cos(t_emb)], dim=-1)\n",
        "    return t_emb"
      ]
    },
    {
      "cell_type": "markdown",
      "metadata": {
        "id": "JT2hOuY034i6"
      },
      "source": [
        "#UNet"
      ]
    },
    {
      "cell_type": "code",
      "execution_count": null,
      "metadata": {
        "id": "uq8-3EBg36i-"
      },
      "outputs": [],
      "source": [
        "class ResidualBlock(nn.Module):\n",
        "  def __init__(self, in_channels, out_channels, emb_dim):\n",
        "    super().__init__()\n",
        "\n",
        "    self.conv1 = nn.Sequential(nn.GroupNorm(8, in_channels),\n",
        "                                 nn.SiLU(),\n",
        "                                 nn.Conv2d(in_channels, out_channels, kernel_size=3, stride=1, padding=1))\n",
        "\n",
        "    self.t_emb_layer = nn.Sequential(nn.SiLU(),\n",
        "                                     nn.Linear(emb_dim, out_channels))#check this linear\n",
        "    self.word_emb_layer = nn.Sequential(nn.SiLU(),\n",
        "                                        nn.Linear(emb_dim, out_channels))\n",
        "\n",
        "    self.conv2 = nn.Sequential(nn.GroupNorm(8, out_channels),\n",
        "                                 nn.SiLU(),\n",
        "                                 nn.Conv2d(out_channels, out_channels, kernel_size=3, stride=1, padding=1))\n",
        "    #for adding residual\n",
        "    self.conv_res = nn.Sequential(nn.GroupNorm(8, in_channels),\n",
        "                                    nn.SiLU(),\n",
        "                                    nn.Conv2d(in_channels, out_channels, kernel_size=1, stride=1))\n",
        "\n",
        "  def forward(self,x,t_emb, word_emb):\n",
        "    output = self.conv1(x)\n",
        "    output = output + self.t_emb_layer(t_emb).unsqueeze(-1).unsqueeze(-1) + self.word_emb_layer(word_emb).unsqueeze(-1).unsqueeze(-1) #just check embedding and this line\n",
        "    output = self.conv2(output)\n",
        "    output = output + self.conv_res(x)\n",
        "    return output\n",
        "\n",
        "class AttentionBlock(nn.Module):\n",
        "  def __init__(self, channels):\n",
        "    super().__init__()\n",
        "    self.norm = nn.GroupNorm(8, channels)\n",
        "    self.attention = nn.MultiheadAttention(channels, 4, batch_first=True)\n",
        "\n",
        "  def forward(self, x):\n",
        "    batch_size, channels, h, w = x.shape\n",
        "    in_attn = x.reshape(batch_size, channels, h * w)\n",
        "    in_attn = self.norm(in_attn)\n",
        "    in_attn = in_attn.transpose(1, 2)\n",
        "    out_attn, _ = self.attention(in_attn, in_attn, in_attn)\n",
        "    out_attn = out_attn.transpose(1, 2).reshape(batch_size, channels, h, w)\n",
        "    output = x + out_attn #add residual\n",
        "    return output\n",
        "\n",
        "class DownBlock(nn.Module):\n",
        "  #consists of resnetblock attention block and downsample block\n",
        "  #Return a feature map with halve the height and width and out_channels channels\n",
        "\n",
        "  def __init__(self, in_channels,out_channels, t_emb_dim):\n",
        "    super().__init__()\n",
        "    self.resBlock = ResidualBlock(in_channels, out_channels, t_emb_dim)\n",
        "    self.Attn = AttentionBlock(out_channels)\n",
        "    self.downsample = nn.Conv2d(out_channels, out_channels, kernel_size=4, stride=2,padding=1)\n",
        "\n",
        "  def forward(self,x,t_emb, word_emb):\n",
        "    output = self.resBlock(x, t_emb, word_emb)\n",
        "    output = self.Attn(output)\n",
        "    downsampled_output = self.downsample(output)\n",
        "    return output, downsampled_output  #2 resuts one used for skip connection other for assing to next layer\n",
        "\n",
        "class BottleNeckBlock(nn.Module):\n",
        "  #consists of resnetblock attention block and another resnet block\n",
        "  #Return a feature map with the same shape\n",
        "\n",
        "  def __init__(self, channels, t_emb_dim):\n",
        "    super().__init__()\n",
        "    self.resBlock = ResidualBlock(channels, channels, t_emb_dim)\n",
        "    self.Attn = AttentionBlock(channels)\n",
        "\n",
        "  def forward(self,x,t_emb, word_emb):\n",
        "    output = self.resBlock(x, t_emb, word_emb)\n",
        "    output = self.Attn(output)\n",
        "    output = self.resBlock(output, t_emb, word_emb)\n",
        "    return output\n",
        "\n",
        "class UpBlock(nn.Module):\n",
        "  #consists of resnetblock attention block and upample block\n",
        "  #Return a feature map with twice the height and width and out_channels channels\n",
        "\n",
        "  def __init__(self, in_channels,out_channels, emb_dim):\n",
        "    super().__init__()\n",
        "    self.resBlock = ResidualBlock(2*in_channels, out_channels, emb_dim) #2* for skip connection\n",
        "    self.Attn = AttentionBlock(out_channels)\n",
        "    self.upsample = nn.ConvTranspose2d(in_channels,in_channels,kernel_size=4,stride=2,padding=1)\n",
        "\n",
        "  def forward(self,x, skip, t_emb, word_emb):\n",
        "    output = self.upsample(x)\n",
        "    assert output.shape[1] == skip.shape[1], \"Skip and upsampled channels must match\"\n",
        "    output = torch.cat([output, skip], dim=1)\n",
        "    output = self.resBlock(output, t_emb, word_emb)\n",
        "    output = self.Attn(output)\n",
        "    return output\n",
        "\n",
        "class UNet(nn.Module):\n",
        "  def __init__(self, emb_dim, in_channels=3, out_channels=3):\n",
        "    super().__init__()\n",
        "    channels = [64,128,256]\n",
        "    self.emb_dim = emb_dim\n",
        "\n",
        "    self.first_layer = nn.Conv2d(in_channels, 32, kernel_size=3, stride=1, padding=1)\n",
        "\n",
        "    self.down1 = DownBlock(32,channels[0], emb_dim)\n",
        "\n",
        "    self.down2 = DownBlock(channels[0],channels[1], emb_dim)\n",
        "    self.down3 = DownBlock(channels[1],channels[2], emb_dim)\n",
        "\n",
        "    self.bottleneck = BottleNeckBlock(channels[2], emb_dim)\n",
        "\n",
        "    self.up1 = UpBlock(channels[2],channels[1], emb_dim)\n",
        "    self.up2 = UpBlock(channels[1],channels[0], emb_dim)\n",
        "    self.up3 = UpBlock(channels[0],channels[0]//2, emb_dim)\n",
        "\n",
        "    self.final_conv = nn.Sequential(nn.GroupNorm(8, channels[0]//2),\n",
        "                                    nn.SiLU(),\n",
        "                                    nn.Conv2d(channels[0]//2, out_channels, kernel_size=3, stride=1, padding=1))\n",
        "\n",
        "    self.word_emb = nn.Embedding(11,self.emb_dim)\n",
        "\n",
        "\n",
        "  def forward(self, x, t, label):\n",
        "    #emb\n",
        "    t_emb = get_time_embedding(t, self.emb_dim)\n",
        "    word_emb = self.word_emb(label)\n",
        "\n",
        "    x= self.first_layer(x)\n",
        "\n",
        "    skip1, x1 = self.down1(x, t_emb, word_emb)\n",
        "    skip2, x2 = self.down2(x1,t_emb, word_emb)\n",
        "    skip3, x3 = self.down3(x2, t_emb, word_emb)\n",
        "\n",
        "    x4 = self.bottleneck(x3, t_emb, word_emb)\n",
        "\n",
        "    x5 = self.up1(x4, skip3, t_emb, word_emb)\n",
        "    x6 = self.up2(x5, skip2, t_emb, word_emb)\n",
        "    x7 = self.up3(x6, skip1, t_emb, word_emb)\n",
        "\n",
        "    out = self.final_conv(x7)\n",
        "    return out"
      ]
    },
    {
      "cell_type": "code",
      "source": [
        "#this code loads a save statedict to reiniialise a trained model\n",
        "from pathlib import Path\n",
        "import os\n",
        "MODEL_PATH = Path(\"models\")\n",
        "MODEL_PATH.mkdir(parents=True, exist_ok=True)\n",
        "\n",
        "MODEL_NAME = \"Unet.pt\"\n",
        "MODEL_SAVE_PATH = MODEL_PATH / MODEL_NAME"
      ],
      "metadata": {
        "id": "m46WQQMxveyC"
      },
      "execution_count": 5,
      "outputs": []
    },
    {
      "cell_type": "code",
      "execution_count": null,
      "metadata": {
        "colab": {
          "base_uri": "https://localhost:8080/"
        },
        "id": "4feg0x9n-Gcs",
        "outputId": "b332cb9d-756a-4d9a-88bb-243f47533191"
      },
      "outputs": [
        {
          "data": {
            "text/plain": [
              "==========================================================================================\n",
              "Layer (type:depth-idx)                   Output Shape              Param #\n",
              "==========================================================================================\n",
              "UNet                                     --                        --\n",
              "├─Embedding: 1-1                         [1, 24]                   264\n",
              "├─Conv2d: 1-2                            [1, 32, 32, 32]           896\n",
              "├─DownBlock: 1-3                         [1, 64, 32, 32]           --\n",
              "│    └─ResidualBlock: 2-1                [1, 64, 32, 32]           --\n",
              "│    │    └─Sequential: 3-1              [1, 64, 32, 32]           18,560\n",
              "│    │    └─Sequential: 3-2              [1, 64]                   1,600\n",
              "│    │    └─Sequential: 3-3              [1, 64]                   1,600\n",
              "│    │    └─Sequential: 3-4              [1, 64, 32, 32]           37,056\n",
              "│    │    └─Sequential: 3-5              [1, 64, 32, 32]           2,176\n",
              "│    └─AttentionBlock: 2-2               [1, 64, 32, 32]           --\n",
              "│    │    └─GroupNorm: 3-6               [1, 64, 1024]             128\n",
              "│    │    └─MultiheadAttention: 3-7      [1, 1024, 64]             16,640\n",
              "│    └─Conv2d: 2-3                       [1, 64, 16, 16]           65,600\n",
              "├─DownBlock: 1-4                         [1, 128, 16, 16]          --\n",
              "│    └─ResidualBlock: 2-4                [1, 128, 16, 16]          --\n",
              "│    │    └─Sequential: 3-8              [1, 128, 16, 16]          73,984\n",
              "│    │    └─Sequential: 3-9              [1, 128]                  3,200\n",
              "│    │    └─Sequential: 3-10             [1, 128]                  3,200\n",
              "│    │    └─Sequential: 3-11             [1, 128, 16, 16]          147,840\n",
              "│    │    └─Sequential: 3-12             [1, 128, 16, 16]          8,448\n",
              "│    └─AttentionBlock: 2-5               [1, 128, 16, 16]          --\n",
              "│    │    └─GroupNorm: 3-13              [1, 128, 256]             256\n",
              "│    │    └─MultiheadAttention: 3-14     [1, 256, 128]             66,048\n",
              "│    └─Conv2d: 2-6                       [1, 128, 8, 8]            262,272\n",
              "├─DownBlock: 1-5                         [1, 256, 8, 8]            --\n",
              "│    └─ResidualBlock: 2-7                [1, 256, 8, 8]            --\n",
              "│    │    └─Sequential: 3-15             [1, 256, 8, 8]            295,424\n",
              "│    │    └─Sequential: 3-16             [1, 256]                  6,400\n",
              "│    │    └─Sequential: 3-17             [1, 256]                  6,400\n",
              "│    │    └─Sequential: 3-18             [1, 256, 8, 8]            590,592\n",
              "│    │    └─Sequential: 3-19             [1, 256, 8, 8]            33,280\n",
              "│    └─AttentionBlock: 2-8               [1, 256, 8, 8]            --\n",
              "│    │    └─GroupNorm: 3-20              [1, 256, 64]              512\n",
              "│    │    └─MultiheadAttention: 3-21     [1, 64, 256]              263,168\n",
              "│    └─Conv2d: 2-9                       [1, 256, 4, 4]            1,048,832\n",
              "├─BottleNeckBlock: 1-6                   [1, 256, 4, 4]            --\n",
              "│    └─ResidualBlock: 2-10               [1, 256, 4, 4]            --\n",
              "│    │    └─Sequential: 3-22             [1, 256, 4, 4]            590,592\n",
              "│    │    └─Sequential: 3-23             [1, 256]                  6,400\n",
              "│    │    └─Sequential: 3-24             [1, 256]                  6,400\n",
              "│    │    └─Sequential: 3-25             [1, 256, 4, 4]            590,592\n",
              "│    │    └─Sequential: 3-26             [1, 256, 4, 4]            66,304\n",
              "│    └─AttentionBlock: 2-11              [1, 256, 4, 4]            --\n",
              "│    │    └─GroupNorm: 3-27              [1, 256, 16]              512\n",
              "│    │    └─MultiheadAttention: 3-28     [1, 16, 256]              263,168\n",
              "│    └─ResidualBlock: 2-12               [1, 256, 4, 4]            (recursive)\n",
              "│    │    └─Sequential: 3-29             [1, 256, 4, 4]            (recursive)\n",
              "│    │    └─Sequential: 3-30             [1, 256]                  (recursive)\n",
              "│    │    └─Sequential: 3-31             [1, 256]                  (recursive)\n",
              "│    │    └─Sequential: 3-32             [1, 256, 4, 4]            (recursive)\n",
              "│    │    └─Sequential: 3-33             [1, 256, 4, 4]            (recursive)\n",
              "├─UpBlock: 1-7                           [1, 128, 8, 8]            --\n",
              "│    └─ConvTranspose2d: 2-13             [1, 256, 8, 8]            1,048,832\n",
              "│    └─ResidualBlock: 2-14               [1, 128, 8, 8]            --\n",
              "│    │    └─Sequential: 3-34             [1, 128, 8, 8]            590,976\n",
              "│    │    └─Sequential: 3-35             [1, 128]                  3,200\n",
              "│    │    └─Sequential: 3-36             [1, 128]                  3,200\n",
              "│    │    └─Sequential: 3-37             [1, 128, 8, 8]            147,840\n",
              "│    │    └─Sequential: 3-38             [1, 128, 8, 8]            66,688\n",
              "│    └─AttentionBlock: 2-15              [1, 128, 8, 8]            --\n",
              "│    │    └─GroupNorm: 3-39              [1, 128, 64]              256\n",
              "│    │    └─MultiheadAttention: 3-40     [1, 64, 128]              66,048\n",
              "├─UpBlock: 1-8                           [1, 64, 16, 16]           --\n",
              "│    └─ConvTranspose2d: 2-16             [1, 128, 16, 16]          262,272\n",
              "│    └─ResidualBlock: 2-17               [1, 64, 16, 16]           --\n",
              "│    │    └─Sequential: 3-41             [1, 64, 16, 16]           148,032\n",
              "│    │    └─Sequential: 3-42             [1, 64]                   1,600\n",
              "│    │    └─Sequential: 3-43             [1, 64]                   1,600\n",
              "│    │    └─Sequential: 3-44             [1, 64, 16, 16]           37,056\n",
              "│    │    └─Sequential: 3-45             [1, 64, 16, 16]           16,960\n",
              "│    └─AttentionBlock: 2-18              [1, 64, 16, 16]           --\n",
              "│    │    └─GroupNorm: 3-46              [1, 64, 256]              128\n",
              "│    │    └─MultiheadAttention: 3-47     [1, 256, 64]              16,640\n",
              "├─UpBlock: 1-9                           [1, 32, 32, 32]           --\n",
              "│    └─ConvTranspose2d: 2-19             [1, 64, 32, 32]           65,600\n",
              "│    └─ResidualBlock: 2-20               [1, 32, 32, 32]           --\n",
              "│    │    └─Sequential: 3-48             [1, 32, 32, 32]           37,152\n",
              "│    │    └─Sequential: 3-49             [1, 32]                   800\n",
              "│    │    └─Sequential: 3-50             [1, 32]                   800\n",
              "│    │    └─Sequential: 3-51             [1, 32, 32, 32]           9,312\n",
              "│    │    └─Sequential: 3-52             [1, 32, 32, 32]           4,384\n",
              "│    └─AttentionBlock: 2-21              [1, 32, 32, 32]           --\n",
              "│    │    └─GroupNorm: 3-53              [1, 32, 1024]             64\n",
              "│    │    └─MultiheadAttention: 3-54     [1, 1024, 32]             4,224\n",
              "├─Sequential: 1-10                       [1, 3, 32, 32]            --\n",
              "│    └─GroupNorm: 2-22                   [1, 32, 32, 32]           64\n",
              "│    └─SiLU: 2-23                        [1, 32, 32, 32]           --\n",
              "│    └─Conv2d: 2-24                      [1, 3, 32, 32]            867\n",
              "==========================================================================================\n",
              "Total params: 7,012,939\n",
              "Trainable params: 7,012,939\n",
              "Non-trainable params: 0\n",
              "Total mult-adds (Units.MEGABYTES): 624.37\n",
              "==========================================================================================\n",
              "Input size (MB): 0.01\n",
              "Forward/backward pass size (MB): 13.61\n",
              "Params size (MB): 25.27\n",
              "Estimated Total Size (MB): 38.89\n",
              "=========================================================================================="
            ]
          },
          "execution_count": 25,
          "metadata": {},
          "output_type": "execute_result"
        }
      ],
      "source": [
        "#gives a top down give of model architecture using torchinfo\n",
        "model=UNet(24)\n",
        "try:\n",
        "  import torchinfo\n",
        "except:\n",
        "  !pip install torchinfo\n",
        "  import torchinfo\n",
        "\n",
        "B = 1\n",
        "input_image = (B, 3, 32, 32)\n",
        "time_tensor = torch.tensor([10.0] * B)  # Example time\n",
        "label_tensor = torch.tensor([1] * B)    # Example label\n",
        "\n",
        "# You must pass a tuple of example inputs\n",
        "torchinfo.summary(model, input_data=(torch.randn(input_image), time_tensor, label_tensor))"
      ]
    },
    {
      "cell_type": "markdown",
      "metadata": {
        "id": "sldGyFWt5aBP"
      },
      "source": [
        "#Training"
      ]
    },
    {
      "cell_type": "code",
      "execution_count": null,
      "metadata": {
        "colab": {
          "base_uri": "https://localhost:8080/",
          "height": 391
        },
        "id": "C-XpSeauHXum",
        "outputId": "24a293be-9aed-43be-dd8c-106ae1beee3e"
      },
      "outputs": [
        {
          "ename": "OutOfMemoryError",
          "evalue": "CUDA out of memory. Tried to allocate 1.50 GiB. GPU 0 has a total capacity of 14.74 GiB of which 1.22 GiB is free. Process 2493 has 13.52 GiB memory in use. Of the allocated memory 11.35 GiB is allocated by PyTorch, and 2.03 GiB is reserved by PyTorch but unallocated. If reserved but unallocated memory is large try setting PYTORCH_CUDA_ALLOC_CONF=expandable_segments:True to avoid fragmentation.  See documentation for Memory Management  (https://pytorch.org/docs/stable/notes/cuda.html#environment-variables)",
          "output_type": "error",
          "traceback": [
            "\u001b[0;31m---------------------------------------------------------------------------\u001b[0m",
            "\u001b[0;31mOutOfMemoryError\u001b[0m                          Traceback (most recent call last)",
            "\u001b[0;32m<ipython-input-15-2676860510>\u001b[0m in \u001b[0;36m<cell line: 0>\u001b[0;34m()\u001b[0m\n\u001b[1;32m     39\u001b[0m     \u001b[0mepoch_loss\u001b[0m\u001b[0;34m+=\u001b[0m\u001b[0mloss\u001b[0m\u001b[0;34m\u001b[0m\u001b[0;34m\u001b[0m\u001b[0m\n\u001b[1;32m     40\u001b[0m     \u001b[0moptimizer\u001b[0m\u001b[0;34m.\u001b[0m\u001b[0mzero_grad\u001b[0m\u001b[0;34m(\u001b[0m\u001b[0mset_to_none\u001b[0m\u001b[0;34m=\u001b[0m\u001b[0;32mTrue\u001b[0m\u001b[0;34m)\u001b[0m\u001b[0;34m\u001b[0m\u001b[0;34m\u001b[0m\u001b[0m\n\u001b[0;32m---> 41\u001b[0;31m     \u001b[0mloss\u001b[0m\u001b[0;34m.\u001b[0m\u001b[0mbackward\u001b[0m\u001b[0;34m(\u001b[0m\u001b[0;34m)\u001b[0m\u001b[0;34m\u001b[0m\u001b[0;34m\u001b[0m\u001b[0m\n\u001b[0m\u001b[1;32m     42\u001b[0m     \u001b[0moptimizer\u001b[0m\u001b[0;34m.\u001b[0m\u001b[0mstep\u001b[0m\u001b[0;34m(\u001b[0m\u001b[0;34m)\u001b[0m\u001b[0;34m\u001b[0m\u001b[0;34m\u001b[0m\u001b[0m\n\u001b[1;32m     43\u001b[0m \u001b[0;34m\u001b[0m\u001b[0m\n",
            "\u001b[0;32m/usr/local/lib/python3.11/dist-packages/torch/_tensor.py\u001b[0m in \u001b[0;36mbackward\u001b[0;34m(self, gradient, retain_graph, create_graph, inputs)\u001b[0m\n\u001b[1;32m    624\u001b[0m                 \u001b[0minputs\u001b[0m\u001b[0;34m=\u001b[0m\u001b[0minputs\u001b[0m\u001b[0;34m,\u001b[0m\u001b[0;34m\u001b[0m\u001b[0;34m\u001b[0m\u001b[0m\n\u001b[1;32m    625\u001b[0m             )\n\u001b[0;32m--> 626\u001b[0;31m         torch.autograd.backward(\n\u001b[0m\u001b[1;32m    627\u001b[0m             \u001b[0mself\u001b[0m\u001b[0;34m,\u001b[0m \u001b[0mgradient\u001b[0m\u001b[0;34m,\u001b[0m \u001b[0mretain_graph\u001b[0m\u001b[0;34m,\u001b[0m \u001b[0mcreate_graph\u001b[0m\u001b[0;34m,\u001b[0m \u001b[0minputs\u001b[0m\u001b[0;34m=\u001b[0m\u001b[0minputs\u001b[0m\u001b[0;34m\u001b[0m\u001b[0;34m\u001b[0m\u001b[0m\n\u001b[1;32m    628\u001b[0m         )\n",
            "\u001b[0;32m/usr/local/lib/python3.11/dist-packages/torch/autograd/__init__.py\u001b[0m in \u001b[0;36mbackward\u001b[0;34m(tensors, grad_tensors, retain_graph, create_graph, grad_variables, inputs)\u001b[0m\n\u001b[1;32m    345\u001b[0m     \u001b[0;31m# some Python versions print out the first line of a multi-line function\u001b[0m\u001b[0;34m\u001b[0m\u001b[0;34m\u001b[0m\u001b[0m\n\u001b[1;32m    346\u001b[0m     \u001b[0;31m# calls in the traceback and some print out the last line\u001b[0m\u001b[0;34m\u001b[0m\u001b[0;34m\u001b[0m\u001b[0m\n\u001b[0;32m--> 347\u001b[0;31m     _engine_run_backward(\n\u001b[0m\u001b[1;32m    348\u001b[0m         \u001b[0mtensors\u001b[0m\u001b[0;34m,\u001b[0m\u001b[0;34m\u001b[0m\u001b[0;34m\u001b[0m\u001b[0m\n\u001b[1;32m    349\u001b[0m         \u001b[0mgrad_tensors_\u001b[0m\u001b[0;34m,\u001b[0m\u001b[0;34m\u001b[0m\u001b[0;34m\u001b[0m\u001b[0m\n",
            "\u001b[0;32m/usr/local/lib/python3.11/dist-packages/torch/autograd/graph.py\u001b[0m in \u001b[0;36m_engine_run_backward\u001b[0;34m(t_outputs, *args, **kwargs)\u001b[0m\n\u001b[1;32m    821\u001b[0m         \u001b[0munregister_hooks\u001b[0m \u001b[0;34m=\u001b[0m \u001b[0m_register_logging_hooks_on_whole_graph\u001b[0m\u001b[0;34m(\u001b[0m\u001b[0mt_outputs\u001b[0m\u001b[0;34m)\u001b[0m\u001b[0;34m\u001b[0m\u001b[0;34m\u001b[0m\u001b[0m\n\u001b[1;32m    822\u001b[0m     \u001b[0;32mtry\u001b[0m\u001b[0;34m:\u001b[0m\u001b[0;34m\u001b[0m\u001b[0;34m\u001b[0m\u001b[0m\n\u001b[0;32m--> 823\u001b[0;31m         return Variable._execution_engine.run_backward(  # Calls into the C++ engine to run the backward pass\n\u001b[0m\u001b[1;32m    824\u001b[0m             \u001b[0mt_outputs\u001b[0m\u001b[0;34m,\u001b[0m \u001b[0;34m*\u001b[0m\u001b[0margs\u001b[0m\u001b[0;34m,\u001b[0m \u001b[0;34m**\u001b[0m\u001b[0mkwargs\u001b[0m\u001b[0;34m\u001b[0m\u001b[0;34m\u001b[0m\u001b[0m\n\u001b[1;32m    825\u001b[0m         )  # Calls into the C++ engine to run the backward pass\n",
            "\u001b[0;31mOutOfMemoryError\u001b[0m: CUDA out of memory. Tried to allocate 1.50 GiB. GPU 0 has a total capacity of 14.74 GiB of which 1.22 GiB is free. Process 2493 has 13.52 GiB memory in use. Of the allocated memory 11.35 GiB is allocated by PyTorch, and 2.03 GiB is reserved by PyTorch but unallocated. If reserved but unallocated memory is large try setting PYTORCH_CUDA_ALLOC_CONF=expandable_segments:True to avoid fragmentation.  See documentation for Memory Management  (https://pytorch.org/docs/stable/notes/cuda.html#environment-variables)"
          ]
        }
      ],
      "source": [
        "batch_size=96\n",
        "\n",
        "train_loader = DataLoader(\n",
        "    combined_dataset,\n",
        "    batch_size=batch_size,\n",
        "    shuffle=True,\n",
        "    num_workers=4,\n",
        "    pin_memory=True,\n",
        "    drop_last=True)\n",
        "\n",
        "epochs = 30\n",
        "DEVICE = torch.device(\"cuda\" if torch.cuda.is_available() else \"cpu\")\n",
        "\n",
        "model = UNet(24).to(DEVICE)\n",
        "if os.path.exists(MODEL_SAVE_PATH):\n",
        "  model.load_state_dict(torch.load(f=MODEL_SAVE_PATH))\n",
        "optimizer = optim.Adam(model.parameters(), lr=0.0001)\n",
        "criterion = nn.MSELoss()\n",
        "\n",
        "for i in range(epochs):\n",
        "  model.train()\n",
        "  epoch_loss = 0.0\n",
        "  count=0\n",
        "\n",
        "  for (images, labels) in train_loader:\n",
        "    images = images.to(DEVICE, non_blocking=True)\n",
        "    labels = labels.to(DEVICE, non_blocking=True)\n",
        "\n",
        "        # Prepare batch with CFG\n",
        "    timesteps = torch.randint(0, 400, (images.size(0),), device=DEVICE)\n",
        "    labels[torch.rand(images.size(0), device=DEVICE) < 0.2] = 10\n",
        "        # Forward pass\n",
        "    model_input, target_noise = forward_diff(images, timesteps)\n",
        "\n",
        "    pred_noise = model(model_input, timesteps, labels)\n",
        "\n",
        "        # Loss and backward\n",
        "    loss = criterion(pred_noise, target_noise)\n",
        "    epoch_loss+=loss\n",
        "    optimizer.zero_grad(set_to_none=True)\n",
        "    loss.backward()\n",
        "    optimizer.step()\n",
        "\n",
        "  print(f\"epoch: {i}\")\n",
        "  print(f\"epoch loss {epoch_loss/len(train_loader)}\")\n",
        "  if i%2==0:\n",
        "    torch.save(obj=model.state_dict(), f=MODEL_SAVE_PATH)\n",
        "    print(\"saved\")\n",
        "\n"
      ]
    },
    {
      "cell_type": "markdown",
      "metadata": {
        "id": "7MP5bcM4SNhr"
      },
      "source": [
        "#Inference"
      ]
    },
    {
      "cell_type": "code",
      "execution_count": null,
      "metadata": {
        "id": "3dwdOV8FSLMH"
      },
      "outputs": [],
      "source": [
        "def generate(label, cfg_w=4.5):\n",
        "  DEVICE = torch.device(\"cuda\" if torch.cuda.is_available() else \"cpu\")\n",
        "  label = torch.tensor([label],device=DEVICE)\n",
        "\n",
        "  model = UNet(24).to(DEVICE)\n",
        "  if os.path.exists(MODEL_SAVE_PATH):\n",
        "    model.load_state_dict(torch.load(f=MODEL_SAVE_PATH, map_location=torch.device('cpu')))\n",
        "\n",
        "  model.eval()\n",
        "\n",
        "  #make random noise image\n",
        "  T = 400  # Total timesteps\n",
        "  noisy_image = torch.randn(1, 3, 32, 32, device=DEVICE)  # Start from pure noise\n",
        "\n",
        "  s = 0.08\n",
        "  t_vals = torch.linspace(0, T, T + 1, device=DEVICE)\n",
        "  alpha_t = torch.cos((t_vals / T + s) / (1 + s) * torch.pi / 2) ** 2\n",
        "  alpha_t = alpha_t / alpha_t[0]\n",
        "  beta_t = 1 - (alpha_t[1:] / alpha_t[:-1])\n",
        "  beta_t = torch.clip(beta_t, 1e-4, 0.02)\n",
        "  alpha_t = 1 - beta_t\n",
        "  alpha_cumprod = torch.cumprod(alpha_t, dim=0)\n",
        "\n",
        "  with torch.inference_mode():\n",
        "    for t in reversed(range(T)):\n",
        "      t_tensor = torch.tensor([t], device=DEVICE)\n",
        "\n",
        "      pred_noise_cond = model(noisy_image, t_tensor, label)\n",
        "      pred_noise_uncond = model(noisy_image, t_tensor, torch.tensor([10], device=DEVICE))\n",
        "\n",
        "      # Classifier-free guidance\n",
        "      pred_noise = (pred_noise_uncond + cfg_w * (pred_noise_cond - pred_noise_uncond))\n",
        "\n",
        "      # DDPM reverse update\n",
        "      sqrt_recip_alpha_t = 1.0 / torch.sqrt(alpha_t[t])\n",
        "      sqrt_one_minus_alpha_cumprod = torch.sqrt(1 - alpha_cumprod[t])\n",
        "      coeff = (1 - alpha_t[t]) / sqrt_one_minus_alpha_cumprod\n",
        "\n",
        "      noisy_image = sqrt_recip_alpha_t * (noisy_image - coeff * pred_noise)\n",
        "\n",
        "      if t > 0:\n",
        "        noise = torch.randn_like(noisy_image)\n",
        "        noisy_image += torch.sqrt(beta_t[t]) * noise\n",
        "\n",
        "      #print(noisy_image[0, 0, :, 0])  # optional debug\n",
        "\n",
        "    # Clamp to valid range\n",
        "    return torch.clamp(noisy_image, -1, 1)\n"
      ]
    },
    {
      "cell_type": "code",
      "execution_count": null,
      "metadata": {
        "colab": {
          "base_uri": "https://localhost:8080/"
        },
        "id": "YW27VroZY4i_",
        "outputId": "0f01de41-091d-4828-c6e3-42d161ded652"
      },
      "outputs": [
        {
          "output_type": "stream",
          "name": "stdout",
          "text": [
            "models/Unet1 (4) (8).pt\n"
          ]
        }
      ],
      "source": [
        "  #this function generates an image and converts it to matplotlib readable format before displaying\n",
        "def show(lable,y):\n",
        "  x = generate(lable, y)\n",
        "  image = x.detach().cpu()\n",
        "  image = image.squeeze(0)\n",
        "  image = (image + 1) / 2\n",
        "  image = image.permute(1, 2, 0).numpy()\n",
        "  plt.figure(figsize=(8, 8))\n",
        "  plt.imshow(image)\n",
        "  plt.axis('off')\n",
        "  plt.show()"
      ]
    },
    {
      "cell_type": "code",
      "execution_count": null,
      "metadata": {
        "colab": {
          "base_uri": "https://localhost:8080/",
          "height": 688
        },
        "id": "4l2oe_tFsctq",
        "outputId": "8a59ad2d-7165-42ab-a8d7-9b2a84f62848"
      },
      "outputs": [
        {
          "output_type": "stream",
          "name": "stdout",
          "text": [
            "Loading\n",
            "Finished loading\n"
          ]
        },
        {
          "output_type": "display_data",
          "data": {
            "text/plain": [
              "<Figure size 800x800 with 1 Axes>"
            ],
            "image/png": "[encoded data removed]"
          },
          "metadata": {}
        }
      ],
      "source": [
        "#example\n",
        "show(7,4.5)"
      ]
    }
  ],
  "metadata": {
    "colab": {
      "collapsed_sections": [
        "cYdzxvNXpNT4"
      ],
      "provenance": []
    },
    "kernelspec": {
      "display_name": "Python 3",
      "name": "python3"
    },
    "language_info": {
      "name": "python"
    }
  },
  "nbformat": 4,
  "nbformat_minor": 0
}